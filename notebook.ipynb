{
 "cells": [
  {
   "cell_type": "code",
   "execution_count": null,
   "id": "5b384419",
   "metadata": {},
   "outputs": [],
   "source": [
    "import datetime \n",
    "import garth\n",
    "import os \n",
    "\n",
    "from dotenv import load_dotenv\n",
    "from garminconnect import Garmin\n",
    "from pprint import pprint"
   ]
  },
  {
   "cell_type": "code",
   "execution_count": null,
   "id": "8ad0b48b",
   "metadata": {},
   "outputs": [],
   "source": [
    "load_dotenv()\n",
    "n = 1\n",
    "date = str(datetime.date.today() - datetime.timedelta(days=n))\n",
    "email = os.getenv(\"GARMIN_EMAIL\")\n",
    "password = os.getenv(\"GARMIN_PASSWORD\")\n",
    "\n",
    "print(date)"
   ]
  },
  {
   "cell_type": "code",
   "execution_count": null,
   "id": "37fb078b",
   "metadata": {},
   "outputs": [],
   "source": [
    "garth.login(email, password)\n",
    "garth.save(\"~/.garth\")"
   ]
  },
  {
   "cell_type": "code",
   "execution_count": null,
   "id": "952e4acb",
   "metadata": {},
   "outputs": [],
   "source": [
    "client = Garmin(\n",
    "    email=email,\n",
    "    password=password\n",
    ")\n",
    "client.login()"
   ]
  },
  {
   "cell_type": "code",
   "execution_count": null,
   "id": "09daa6fb",
   "metadata": {},
   "outputs": [],
   "source": [
    "limit = 10\n",
    "recent_activities = client.get_activities(start=0, limit=limit)\n",
    "pprint(recent_activities)\n"
   ]
  },
  {
   "cell_type": "code",
   "execution_count": null,
   "id": "79e02760",
   "metadata": {},
   "outputs": [],
   "source": [
    "pprint(client.get_stats(date))"
   ]
  },
  {
   "cell_type": "code",
   "execution_count": null,
   "id": "eba61fc4",
   "metadata": {},
   "outputs": [],
   "source": [
    "garth.DailySteps.list(period=2)[0]"
   ]
  },
  {
   "cell_type": "code",
   "execution_count": null,
   "id": "56830a1b",
   "metadata": {},
   "outputs": [],
   "source": [
    "pprint(garth.UserProfile.get())"
   ]
  },
  {
   "cell_type": "code",
   "execution_count": null,
   "id": "afd3656a",
   "metadata": {},
   "outputs": [],
   "source": []
  }
 ],
 "metadata": {
  "kernelspec": {
   "display_name": ".venv (3.11.7)",
   "language": "python",
   "name": "python3"
  },
  "language_info": {
   "codemirror_mode": {
    "name": "ipython",
    "version": 3
   },
   "file_extension": ".py",
   "mimetype": "text/x-python",
   "name": "python",
   "nbconvert_exporter": "python",
   "pygments_lexer": "ipython3",
   "version": "3.11.7"
  }
 },
 "nbformat": 4,
 "nbformat_minor": 5
}
